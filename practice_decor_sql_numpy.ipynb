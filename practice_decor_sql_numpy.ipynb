{
 "cells": [
  {
   "cell_type": "code",
   "execution_count": 30,
   "metadata": {},
   "outputs": [],
   "source": [
    "import datetime\n",
    "import time\n",
    "import requests\n",
    "import sqlite3\n",
    "from faker import Faker\n",
    "from datetime import datetime\n",
    "import numpy as np"
   ]
  },
  {
   "cell_type": "code",
   "execution_count": 46,
   "metadata": {},
   "outputs": [],
   "source": [
    "#Task 1. Реалізуйте декоратор type_check, який перевіряє відповідність типів аргументів функції заданим типам і викидає виняток, якщо типи не збігаються.\n",
    "def type_check(func):\n",
    "    def wrapper(*args, **kwargs):\n",
    "        func_ = func.__annotations__\n",
    "        for i, arg in enumerate(args):\n",
    "            if func_ and func_.get(list(func_.keys())[i], None) and not isinstance(arg, func_[list(func_.keys())[i]]):\n",
    "                return TypeError(f\"Argument '{list(func_.keys())[i]}' has invalid type: {type(arg).__name__}\") #or raise TypeError\n",
    "        return func(*args, **kwargs)\n",
    "    return wrapper"
   ]
  },
  {
   "cell_type": "code",
   "execution_count": 47,
   "metadata": {},
   "outputs": [
    {
     "data": {
      "text/plain": [
       "TypeError(\"Argument 'my_dict' has invalid type: tuple\")"
      ]
     },
     "execution_count": 47,
     "metadata": {},
     "output_type": "execute_result"
    }
   ],
   "source": [
    "@type_check\n",
    "def example_function(num: int, text: str, my_list: list, my_dict: dict):\n",
    "    print(f\"Received: {num}, {text}, {my_list}, {my_dict}\")\n",
    "\n",
    "num=23\n",
    "text='45'\n",
    "my_list=[23]\n",
    "my_dict=(23, 24)\n",
    "\n",
    "example_function(num, text, my_list, my_dict)"
   ]
  },
  {
   "cell_type": "code",
   "execution_count": 29,
   "metadata": {},
   "outputs": [
    {
     "name": "stdout",
     "output_type": "stream",
     "text": [
      "[{'currencyCodeA': 840, 'currencyCodeB': 980, 'date': 1700721673, 'rateBuy': 36.05, 'rateCross': 0, 'rateSell': 37.2995}, {'currencyCodeA': 978, 'currencyCodeB': 980, 'date': 1700690473, 'rateBuy': 39.31, 'rateCross': 0, 'rateSell': 40.7498}, {'currencyCodeA': 978, 'currencyCodeB': 840, 'date': 1700721673, 'rateBuy': 1.085, 'rateCross': 0, 'rateSell': 1.096}, {'currencyCodeA': 826, 'currencyCodeB': 980, 'date': 1700751353, 'rateBuy': 0, 'rateCross': 46.8043, 'rateSell': 0}, {'currencyCodeA': 392, 'currencyCodeB': 980, 'date': 1700751343, 'rateBuy': 0, 'rateCross': 0.2522, 'rateSell': 0}, {'currencyCodeA': 756, 'currencyCodeB': 980, 'date': 1700751355, 'rateBuy': 0, 'rateCross': 42.2978, 'rateSell': 0}, {'currencyCodeA': 156, 'currencyCodeB': 980, 'date': 1700751317, 'rateBuy': 0, 'rateCross': 5.2169, 'rateSell': 0}, {'currencyCodeA': 784, 'currencyCodeB': 980, 'date': 1700751313, 'rateBuy': 0, 'rateCross': 10.1595, 'rateSell': 0}, {'currencyCodeA': 971, 'currencyCodeB': 980, 'date': 1663425223, 'rateBuy': 0, 'rateCross': 0.4252, 'rateSell': 0}, {'currencyCodeA': 8, 'currencyCodeB': 980, 'date': 1700751202, 'rateBuy': 0, 'rateCross': 0.3958, 'rateSell': 0}, {'currencyCodeA': 51, 'currencyCodeB': 980, 'date': 1700751351, 'rateBuy': 0, 'rateCross': 0.0929, 'rateSell': 0}, {'currencyCodeA': 973, 'currencyCodeB': 980, 'date': 1700500493, 'rateBuy': 0, 'rateCross': 0.045, 'rateSell': 0}, {'currencyCodeA': 32, 'currencyCodeB': 980, 'date': 1700751314, 'rateBuy': 0, 'rateCross': 0.1046, 'rateSell': 0}, {'currencyCodeA': 36, 'currencyCodeB': 980, 'date': 1700751219, 'rateBuy': 0, 'rateCross': 24.544, 'rateSell': 0}, {'currencyCodeA': 944, 'currencyCodeB': 980, 'date': 1700751356, 'rateBuy': 0, 'rateCross': 21.9987, 'rateSell': 0}, {'currencyCodeA': 50, 'currencyCodeB': 980, 'date': 1700751035, 'rateBuy': 0, 'rateCross': 0.3373, 'rateSell': 0}, {'currencyCodeA': 975, 'currencyCodeB': 980, 'date': 1700751357, 'rateBuy': 0, 'rateCross': 20.8412, 'rateSell': 0}, {'currencyCodeA': 48, 'currencyCodeB': 980, 'date': 1700749788, 'rateBuy': 0, 'rateCross': 99.1962, 'rateSell': 0}, {'currencyCodeA': 108, 'currencyCodeB': 980, 'date': 1538606522, 'rateBuy': 0, 'rateCross': 0.0158, 'rateSell': 0}, {'currencyCodeA': 96, 'currencyCodeB': 980, 'date': 1699099931, 'rateBuy': 0, 'rateCross': 27.5553, 'rateSell': 0}, {'currencyCodeA': 68, 'currencyCodeB': 980, 'date': 1700522683, 'rateBuy': 0, 'rateCross': 5.4378, 'rateSell': 0}, {'currencyCodeA': 986, 'currencyCodeB': 980, 'date': 1700750843, 'rateBuy': 0, 'rateCross': 7.642, 'rateSell': 0}, {'currencyCodeA': 72, 'currencyCodeB': 980, 'date': 1700317510, 'rateBuy': 0, 'rateCross': 2.7796, 'rateSell': 0}, {'currencyCodeA': 933, 'currencyCodeB': 980, 'date': 1700749030, 'rateBuy': 0, 'rateCross': 12.1172, 'rateSell': 0}, {'currencyCodeA': 124, 'currencyCodeB': 980, 'date': 1700751348, 'rateBuy': 0, 'rateCross': 27.2533, 'rateSell': 0}, {'currencyCodeA': 976, 'currencyCodeB': 980, 'date': 1692273994, 'rateBuy': 0, 'rateCross': 0.0154, 'rateSell': 0}, {'currencyCodeA': 152, 'currencyCodeB': 980, 'date': 1700747257, 'rateBuy': 0, 'rateCross': 0.0425, 'rateSell': 0}, {'currencyCodeA': 170, 'currencyCodeB': 980, 'date': 1700748584, 'rateBuy': 0, 'rateCross': 0.0091, 'rateSell': 0}, {'currencyCodeA': 188, 'currencyCodeB': 980, 'date': 1700744150, 'rateBuy': 0, 'rateCross': 0.0703, 'rateSell': 0}, {'currencyCodeA': 192, 'currencyCodeB': 980, 'date': 1687102850, 'rateBuy': 0, 'rateCross': 1.5599, 'rateSell': 0}, {'currencyCodeA': 203, 'currencyCodeB': 980, 'date': 1700751354, 'rateBuy': 0, 'rateCross': 1.6644, 'rateSell': 0}, {'currencyCodeA': 262, 'currencyCodeB': 980, 'date': 1678810696, 'rateBuy': 0, 'rateCross': 0.2108, 'rateSell': 0}, {'currencyCodeA': 208, 'currencyCodeB': 980, 'date': 1700751346, 'rateBuy': 0, 'rateCross': 5.4677, 'rateSell': 0}, {'currencyCodeA': 12, 'currencyCodeB': 980, 'date': 1700751266, 'rateBuy': 0, 'rateCross': 0.2776, 'rateSell': 0}, {'currencyCodeA': 818, 'currencyCodeB': 980, 'date': 1700751325, 'rateBuy': 0, 'rateCross': 1.2106, 'rateSell': 0}, {'currencyCodeA': 230, 'currencyCodeB': 980, 'date': 1700235567, 'rateBuy': 0, 'rateCross': 0.6704, 'rateSell': 0}, {'currencyCodeA': 981, 'currencyCodeB': 980, 'date': 1700751346, 'rateBuy': 0, 'rateCross': 13.9381, 'rateSell': 0}, {'currencyCodeA': 936, 'currencyCodeB': 980, 'date': 1700746488, 'rateBuy': 0, 'rateCross': 3.1346, 'rateSell': 0}, {'currencyCodeA': 270, 'currencyCodeB': 980, 'date': 1700495027, 'rateBuy': 0, 'rateCross': 0.6037, 'rateSell': 0}, {'currencyCodeA': 324, 'currencyCodeB': 980, 'date': 1700748461, 'rateBuy': 0, 'rateCross': 0.0043, 'rateSell': 0}, {'currencyCodeA': 344, 'currencyCodeB': 980, 'date': 1700750291, 'rateBuy': 0, 'rateCross': 4.7895, 'rateSell': 0}, {'currencyCodeA': 191, 'currencyCodeB': 980, 'date': 1680625280, 'rateBuy': 0, 'rateCross': 5.4258, 'rateSell': 0}, {'currencyCodeA': 348, 'currencyCodeB': 980, 'date': 1700751348, 'rateBuy': 0, 'rateCross': 0.1072, 'rateSell': 0}, {'currencyCodeA': 360, 'currencyCodeB': 980, 'date': 1700751351, 'rateBuy': 0, 'rateCross': 0.0024, 'rateSell': 0}, {'currencyCodeA': 376, 'currencyCodeB': 980, 'date': 1700751265, 'rateBuy': 0, 'rateCross': 10.0407, 'rateSell': 0}, {'currencyCodeA': 356, 'currencyCodeB': 980, 'date': 1700751103, 'rateBuy': 0, 'rateCross': 0.4482, 'rateSell': 0}, {'currencyCodeA': 368, 'currencyCodeB': 980, 'date': 1700749503, 'rateBuy': 0, 'rateCross': 0.0284, 'rateSell': 0}, {'currencyCodeA': 352, 'currencyCodeB': 980, 'date': 1700751335, 'rateBuy': 0, 'rateCross': 0.2644, 'rateSell': 0}, {'currencyCodeA': 400, 'currencyCodeB': 980, 'date': 1700747328, 'rateBuy': 0, 'rateCross': 52.6494, 'rateSell': 0}, {'currencyCodeA': 404, 'currencyCodeB': 980, 'date': 1700751132, 'rateBuy': 0, 'rateCross': 0.2443, 'rateSell': 0}, {'currencyCodeA': 417, 'currencyCodeB': 980, 'date': 1700748675, 'rateBuy': 0, 'rateCross': 0.4194, 'rateSell': 0}, {'currencyCodeA': 116, 'currencyCodeB': 980, 'date': 1700710539, 'rateBuy': 0, 'rateCross': 0.009, 'rateSell': 0}, {'currencyCodeA': 410, 'currencyCodeB': 980, 'date': 1700749919, 'rateBuy': 0, 'rateCross': 0.0288, 'rateSell': 0}, {'currencyCodeA': 414, 'currencyCodeB': 980, 'date': 1700736740, 'rateBuy': 0, 'rateCross': 121.112, 'rateSell': 0}, {'currencyCodeA': 398, 'currencyCodeB': 980, 'date': 1700751285, 'rateBuy': 0, 'rateCross': 0.0817, 'rateSell': 0}, {'currencyCodeA': 418, 'currencyCodeB': 980, 'date': 1700007199, 'rateBuy': 0, 'rateCross': 0.0018, 'rateSell': 0}, {'currencyCodeA': 422, 'currencyCodeB': 980, 'date': 1700556811, 'rateBuy': 0, 'rateCross': 0.0004, 'rateSell': 0}, {'currencyCodeA': 144, 'currencyCodeB': 980, 'date': 1700749839, 'rateBuy': 0, 'rateCross': 0.1137, 'rateSell': 0}, {'currencyCodeA': 434, 'currencyCodeB': 980, 'date': 1674670757, 'rateBuy': 0, 'rateCross': 7.8783, 'rateSell': 0}, {'currencyCodeA': 504, 'currencyCodeB': 980, 'date': 1700751169, 'rateBuy': 0, 'rateCross': 3.686, 'rateSell': 0}, {'currencyCodeA': 498, 'currencyCodeB': 980, 'date': 1700751349, 'rateBuy': 0, 'rateCross': 2.1142, 'rateSell': 0}, {'currencyCodeA': 969, 'currencyCodeB': 980, 'date': 1700544396, 'rateBuy': 0, 'rateCross': 0.0083, 'rateSell': 0}, {'currencyCodeA': 807, 'currencyCodeB': 980, 'date': 1700749596, 'rateBuy': 0, 'rateCross': 0.6611, 'rateSell': 0}, {'currencyCodeA': 496, 'currencyCodeB': 980, 'date': 1700637072, 'rateBuy': 0, 'rateCross': 0.0108, 'rateSell': 0}, {'currencyCodeA': 480, 'currencyCodeB': 980, 'date': 1700746635, 'rateBuy': 0, 'rateCross': 0.8392, 'rateSell': 0}, {'currencyCodeA': 454, 'currencyCodeB': 980, 'date': 1678369785, 'rateBuy': 0, 'rateCross': 0.0368, 'rateSell': 0}, {'currencyCodeA': 484, 'currencyCodeB': 980, 'date': 1700751359, 'rateBuy': 0, 'rateCross': 2.1731, 'rateSell': 0}, {'currencyCodeA': 458, 'currencyCodeB': 980, 'date': 1700751306, 'rateBuy': 0, 'rateCross': 7.9993, 'rateSell': 0}, {'currencyCodeA': 943, 'currencyCodeB': 980, 'date': 1698658019, 'rateBuy': 0, 'rateCross': 0.5918, 'rateSell': 0}, {'currencyCodeA': 516, 'currencyCodeB': 980, 'date': 1700747791, 'rateBuy': 0, 'rateCross': 2.0116, 'rateSell': 0}, {'currencyCodeA': 566, 'currencyCodeB': 980, 'date': 1700751348, 'rateBuy': 0, 'rateCross': 0.0455, 'rateSell': 0}, {'currencyCodeA': 558, 'currencyCodeB': 980, 'date': 1700664513, 'rateBuy': 0, 'rateCross': 1.0315, 'rateSell': 0}, {'currencyCodeA': 578, 'currencyCodeB': 980, 'date': 1700751352, 'rateBuy': 0, 'rateCross': 3.5016, 'rateSell': 0}, {'currencyCodeA': 524, 'currencyCodeB': 980, 'date': 1700747800, 'rateBuy': 0, 'rateCross': 0.28, 'rateSell': 0}, {'currencyCodeA': 554, 'currencyCodeB': 980, 'date': 1700737893, 'rateBuy': 0, 'rateCross': 22.6249, 'rateSell': 0}, {'currencyCodeA': 512, 'currencyCodeB': 980, 'date': 1700749396, 'rateBuy': 0, 'rateCross': 96.9448, 'rateSell': 0}, {'currencyCodeA': 604, 'currencyCodeB': 980, 'date': 1700750934, 'rateBuy': 0, 'rateCross': 9.9772, 'rateSell': 0}, {'currencyCodeA': 608, 'currencyCodeB': 980, 'date': 1700750725, 'rateBuy': 0, 'rateCross': 0.6729, 'rateSell': 0}, {'currencyCodeA': 586, 'currencyCodeB': 980, 'date': 1700749714, 'rateBuy': 0, 'rateCross': 0.1308, 'rateSell': 0}, {'currencyCodeA': 985, 'currencyCodeB': 980, 'date': 1700751365, 'rateBuy': 0, 'rateCross': 9.3505, 'rateSell': 0}, {'currencyCodeA': 600, 'currencyCodeB': 980, 'date': 1700751366, 'rateBuy': 0, 'rateCross': 0.005, 'rateSell': 0}, {'currencyCodeA': 634, 'currencyCodeB': 980, 'date': 1700750875, 'rateBuy': 0, 'rateCross': 10.2384, 'rateSell': 0}, {'currencyCodeA': 946, 'currencyCodeB': 980, 'date': 1700751366, 'rateBuy': 0, 'rateCross': 8.2089, 'rateSell': 0}, {'currencyCodeA': 941, 'currencyCodeB': 980, 'date': 1700751263, 'rateBuy': 0, 'rateCross': 0.3463, 'rateSell': 0}, {'currencyCodeA': 682, 'currencyCodeB': 980, 'date': 1700751207, 'rateBuy': 0, 'rateCross': 9.9454, 'rateSell': 0}, {'currencyCodeA': 690, 'currencyCodeB': 980, 'date': 1700732306, 'rateBuy': 0, 'rateCross': 2.5895, 'rateSell': 0}, {'currencyCodeA': 938, 'currencyCodeB': 980, 'date': 1680961561, 'rateBuy': 0, 'rateCross': 0.0627, 'rateSell': 0}, {'currencyCodeA': 752, 'currencyCodeB': 980, 'date': 1700751348, 'rateBuy': 0, 'rateCross': 3.5747, 'rateSell': 0}, {'currencyCodeA': 702, 'currencyCodeB': 980, 'date': 1700750511, 'rateBuy': 0, 'rateCross': 27.8883, 'rateSell': 0}, {'currencyCodeA': 694, 'currencyCodeB': 980, 'date': 1664217991, 'rateBuy': 0, 'rateCross': 0.0024, 'rateSell': 0}, {'currencyCodeA': 706, 'currencyCodeB': 980, 'date': 1683386099, 'rateBuy': 0, 'rateCross': 0.0659, 'rateSell': 0}, {'currencyCodeA': 968, 'currencyCodeB': 980, 'date': 1696117310, 'rateBuy': 0, 'rateCross': 0.9686, 'rateSell': 0}, {'currencyCodeA': 748, 'currencyCodeB': 980, 'date': 1668614714, 'rateBuy': 0, 'rateCross': 2.1898, 'rateSell': 0}, {'currencyCodeA': 764, 'currencyCodeB': 980, 'date': 1700751192, 'rateBuy': 0, 'rateCross': 1.0644, 'rateSell': 0}, {'currencyCodeA': 972, 'currencyCodeB': 980, 'date': 1700737165, 'rateBuy': 0, 'rateCross': 3.4055, 'rateSell': 0}, {'currencyCodeA': 788, 'currencyCodeB': 980, 'date': 1700746757, 'rateBuy': 0, 'rateCross': 12.0282, 'rateSell': 0}, {'currencyCodeA': 949, 'currencyCodeB': 980, 'date': 1700751353, 'rateBuy': 0, 'rateCross': 1.2977, 'rateSell': 0}, {'currencyCodeA': 901, 'currencyCodeB': 980, 'date': 1700745175, 'rateBuy': 0, 'rateCross': 1.1804, 'rateSell': 0}, {'currencyCodeA': 834, 'currencyCodeB': 980, 'date': 1700747484, 'rateBuy': 0, 'rateCross': 0.0149, 'rateSell': 0}, {'currencyCodeA': 800, 'currencyCodeB': 980, 'date': 1700750775, 'rateBuy': 0, 'rateCross': 0.0098, 'rateSell': 0}, {'currencyCodeA': 858, 'currencyCodeB': 980, 'date': 1700745904, 'rateBuy': 0, 'rateCross': 0.9529, 'rateSell': 0}, {'currencyCodeA': 860, 'currencyCodeB': 980, 'date': 1700750484, 'rateBuy': 0, 'rateCross': 0.003, 'rateSell': 0}, {'currencyCodeA': 704, 'currencyCodeB': 980, 'date': 1700751263, 'rateBuy': 0, 'rateCross': 0.0015, 'rateSell': 0}, {'currencyCodeA': 950, 'currencyCodeB': 980, 'date': 1700749550, 'rateBuy': 0, 'rateCross': 0.0621, 'rateSell': 0}, {'currencyCodeA': 952, 'currencyCodeB': 980, 'date': 1700736728, 'rateBuy': 0, 'rateCross': 0.0621, 'rateSell': 0}, {'currencyCodeA': 886, 'currencyCodeB': 980, 'date': 1543715495, 'rateBuy': 0, 'rateCross': 0.112, 'rateSell': 0}, {'currencyCodeA': 710, 'currencyCodeB': 980, 'date': 1700750865, 'rateBuy': 0, 'rateCross': 2.0068, 'rateSell': 0}]\n"
     ]
    }
   ],
   "source": [
    "#Task 2. Реалізуйте декоратор delay, який затримує виконання функції на вказану кількість секунд. \n",
    "#Функція повинна на заданий час давати shutdown, також повинна бути перевірка на статус код та try/except для перевірки connection \n",
    "def delay(func):\n",
    "    def wrapper(*args, **kwargs):\n",
    "        try:\n",
    "            response = func(*args, **kwargs)\n",
    "            if response.status_code == 200:\n",
    "                time.sleep(15)\n",
    "                return response.json()\n",
    "                print('All good')\n",
    "            elif response.status_code == 404:\n",
    "                print('Error connect')\n",
    "            else:\n",
    "                 print(f'Unkwown status code {response.status_code}')\n",
    "        except Exception as E:\n",
    "            print(f'Unexpected error occured {E}')\n",
    "    return wrapper\n",
    "\n",
    "\n",
    "@delay\n",
    "def connect_func(url):\n",
    "    return requests.get(url)\n",
    "\n",
    "data = connect_func('https://api.monobank.ua/bank/currency')\n",
    "if data:\n",
    "    print(data)\n"
   ]
  },
  {
   "cell_type": "code",
   "execution_count": null,
   "metadata": {},
   "outputs": [],
   "source": [
    "#SQL - tasks\n",
    "# Task 1. create table Person, with id: int, primary key, name: text, surname: text,\n",
    "#date_of_birth date \n",
    "# Connect with BD \n",
    "\n",
    "\n",
    "# create a connection to the database\n",
    "conn = sqlite3.connect('example.db')\n",
    "\n",
    "print(conn)\n",
    "# create a table\n",
    "conn.execute('''CREATE TABLE IF NOT EXISTS\n",
    "             persons (id INTEGER PRIMARY KEY, name TEXT, surname TEXT, date_of_birth DATE)''')\n",
    "\n",
    "# commit the changes\n",
    "conn.commit()\n",
    "\n",
    "# close the connection\n",
    "conn.close()"
   ]
  },
  {
   "cell_type": "code",
   "execution_count": null,
   "metadata": {},
   "outputs": [],
   "source": [
    "# Task 2. Заповнити таблицю Person 15 кортежі, *use - faker, *use - context manager\n",
    "\n",
    "\n",
    "conn = sqlite3.connect('example.db')\n",
    "fake = Faker()\n",
    "Faker.seed(42)\n",
    "\n",
    "with sqlite3.connect('example.db') as conn:\n",
    "    conn.execute('''CREATE TABLE IF NOT EXISTS persons (\n",
    "                    id INTEGER PRIMARY KEY,\n",
    "                    name TEXT,\n",
    "                    surname TEXT,\n",
    "                    date_of_birth DATE)\n",
    "                ''')\n",
    "\n",
    "    for i in range(1, 16):\n",
    "        name = fake.first_name()\n",
    "        surname = fake.last_name()\n",
    "        date_of_birth = fake.date_of_birth(maximum_age=65, minimum_age=20) #indicated max and min age in order to avoid huge difference in randomly generated time data\n",
    "        conn.execute(\"INSERT INTO persons (id, name, surname, date_of_birth) VALUES (?, ?, ?, ?)\",\n",
    "                     (i, name, surname, date_of_birth))\n",
    "\n",
    "    conn.commit()"
   ]
  },
  {
   "cell_type": "code",
   "execution_count": 31,
   "metadata": {},
   "outputs": [
    {
     "name": "stdout",
     "output_type": "stream",
     "text": [
      "(1, 'Danielle', 'Johnson', '1976-08-09')\n",
      "(2, 'John', 'Taylor', '1964-11-12')\n",
      "(3, 'Erica', 'Mcclain', '1963-10-22')\n",
      "(4, 'Brittany', 'Johnson', '1964-04-07')\n",
      "(5, 'Jeffery', 'Wagner', '1959-09-12')\n",
      "(6, 'Anna', 'Baldwin', '1994-12-22')\n",
      "(7, 'Robert', 'Cole', '1976-10-27')\n",
      "(8, 'Lisa', 'Smith', '1968-10-03')\n",
      "(9, 'Helen', 'Peterson', '1968-06-21')\n",
      "(10, 'Jason', 'Gallagher', '1964-11-05')\n",
      "(11, 'Christopher', 'Davis', '1981-04-19')\n",
      "(12, 'Cassandra', 'Roman', '1989-02-26')\n",
      "(13, 'Amanda', 'Dudley', '1983-08-26')\n",
      "(14, 'Christian', 'Carter', '2000-09-01')\n",
      "(15, 'Christine', 'Hensley', '1997-03-07')\n"
     ]
    }
   ],
   "source": [
    "# check on inserted data\n",
    "with sqlite3.connect('example.db') as conn:\n",
    "    \n",
    "    cursor = conn.cursor()\n",
    "    cursor.execute(\"SELECT  * FROM Persons\")\n",
    "    rows = cursor.fetchall()\n",
    "\n",
    "    # print the data\n",
    "    for row in rows:\n",
    "        print(row)"
   ]
  },
  {
   "cell_type": "code",
   "execution_count": 32,
   "metadata": {},
   "outputs": [
    {
     "name": "stdout",
     "output_type": "stream",
     "text": [
      "There are no records matching your request in the table\n"
     ]
    }
   ],
   "source": [
    "# Task 3. Знайти всіх людей у кого день народження 19-03-1998 або 12-10-1998\n",
    "with sqlite3.connect('example.db') as conn:\n",
    "    \n",
    "    cursor = conn.cursor()\n",
    "    cursor.execute(\"SELECT  * FROM Persons WHERE date_of_birth IN ('1998-03-19', '1998-10-12')\" )\n",
    "    rows = cursor.fetchall()\n",
    "\n",
    "    if not rows:\n",
    "        print ('There are no records matching your request in the table')\n",
    "    else:\n",
    "        for row in rows:\n",
    "            print(row)"
   ]
  },
  {
   "cell_type": "code",
   "execution_count": 33,
   "metadata": {},
   "outputs": [
    {
     "name": "stdout",
     "output_type": "stream",
     "text": [
      "(5, 'Jeffery', 'Wagner', '1959-09-12')\n",
      "(3, 'Erica', 'Mcclain', '1963-10-22')\n",
      "(4, 'Brittany', 'Johnson', '1964-04-07')\n",
      "(10, 'Jason', 'Gallagher', '1964-11-05')\n",
      "(2, 'John', 'Taylor', '1964-11-12')\n",
      "(5, 'Jeffery', 'Wagner', '1959-09-12')\n",
      "(3, 'Erica', 'Mcclain', '1963-10-22')\n",
      "(4, 'Brittany', 'Johnson', '1964-04-07')\n",
      "(10, 'Jason', 'Gallagher', '1964-11-05')\n",
      "(2, 'John', 'Taylor', '1964-11-12')\n"
     ]
    }
   ],
   "source": [
    "# Task 4. Знайте найстарших людей в наборі(топ 5)\n",
    "with sqlite3.connect('example.db') as conn:\n",
    "    \n",
    "    cursor = conn.cursor()\n",
    "    cursor.execute(\"SELECT  * FROM Persons ORDER BY date_of_birth LIMIT 5\")\n",
    "    rows = cursor.fetchall()\n",
    "\n",
    "    # print the data\n",
    "    for row in rows:\n",
    "        print(row)\n",
    "\n",
    "# or:\n",
    "with sqlite3.connect('example.db') as conn:\n",
    "    \n",
    "    cursor = conn.cursor()\n",
    "    cursor.execute(\"SELECT  * FROM Persons ORDER BY date_of_birth\")\n",
    "    rows = cursor.fetchmany(5)\n",
    "\n",
    "    # print the data\n",
    "    for row in rows:\n",
    "        print(row)\n"
   ]
  },
  {
   "cell_type": "code",
   "execution_count": 34,
   "metadata": {},
   "outputs": [
    {
     "name": "stdout",
     "output_type": "stream",
     "text": [
      "(1, 'Danielle', 'Johnson', '1976-08-09')\n",
      "(4, 'Brittany', 'Johnson', '1964-04-07')\n",
      "(5, 'Jeffery', 'Wagner', '1959-09-12')\n",
      "(7, 'Robert', 'Cole', '1976-10-27')\n",
      "(11, 'Christopher', 'Davis', '1981-04-19')\n",
      "(12, 'Cassandra', 'Roman', '1989-02-26')\n",
      "(14, 'Christian', 'Carter', '2000-09-01')\n",
      "(15, 'Christine', 'Hensley', '1997-03-07')\n"
     ]
    }
   ],
   "source": [
    "# Task 5. Вивезти всіх у кого name більше surname \n",
    "with sqlite3.connect('example.db') as conn:\n",
    "    \n",
    "    cursor = conn.cursor()\n",
    "    cursor.execute(\"SELECT  * FROM Persons WHERE LENGTH(name) > LENGTH(surname)\")\n",
    "    rows = cursor.fetchall()\n",
    "\n",
    "    # print the data\n",
    "    for row in rows:\n",
    "        print(row)"
   ]
  },
  {
   "cell_type": "code",
   "execution_count": null,
   "metadata": {},
   "outputs": [],
   "source": [
    "# задачі Numpy"
   ]
  },
  {
   "cell_type": "code",
   "execution_count": 35,
   "metadata": {},
   "outputs": [
    {
     "name": "stdout",
     "output_type": "stream",
     "text": [
      "[[ 1  2  3  4  5  6  7  8  9 10]\n",
      " [11 12 13 14 15 16 17 18 19 20]\n",
      " [21 22 23 24 25 26 27 28 29 30]\n",
      " [31 32 33 34 35 36 37 38 39 40]\n",
      " [41 42 43 44 45 46 47 48 49 50]] [[ 1]\n",
      " [ 2]\n",
      " [ 3]\n",
      " [ 4]\n",
      " [ 5]\n",
      " [ 6]\n",
      " [ 7]\n",
      " [ 8]\n",
      " [ 9]\n",
      " [10]\n",
      " [11]\n",
      " [12]\n",
      " [13]\n",
      " [14]\n",
      " [15]\n",
      " [16]\n",
      " [17]\n",
      " [18]\n",
      " [19]\n",
      " [20]\n",
      " [21]\n",
      " [22]\n",
      " [23]\n",
      " [24]\n",
      " [25]\n",
      " [26]\n",
      " [27]\n",
      " [28]\n",
      " [29]\n",
      " [30]\n",
      " [31]\n",
      " [32]\n",
      " [33]\n",
      " [34]\n",
      " [35]\n",
      " [36]\n",
      " [37]\n",
      " [38]\n",
      " [39]\n",
      " [40]\n",
      " [41]\n",
      " [42]\n",
      " [43]\n",
      " [44]\n",
      " [45]\n",
      " [46]\n",
      " [47]\n",
      " [48]\n",
      " [49]\n",
      " [50]] [[ 1  2]\n",
      " [ 3  4]\n",
      " [ 5  6]\n",
      " [ 7  8]\n",
      " [ 9 10]\n",
      " [11 12]\n",
      " [13 14]\n",
      " [15 16]\n",
      " [17 18]\n",
      " [19 20]\n",
      " [21 22]\n",
      " [23 24]\n",
      " [25 26]\n",
      " [27 28]\n",
      " [29 30]\n",
      " [31 32]\n",
      " [33 34]\n",
      " [35 36]\n",
      " [37 38]\n",
      " [39 40]\n",
      " [41 42]\n",
      " [43 44]\n",
      " [45 46]\n",
      " [47 48]\n",
      " [49 50]]\n"
     ]
    }
   ],
   "source": [
    "# Task 1. Create list with 50 elements, reshape in 3 dim\n",
    "arr=np.arange(1, 51)\n",
    "print(arr.reshape(5, 10), arr.reshape(50, 1), arr.reshape(25, 2))"
   ]
  },
  {
   "cell_type": "code",
   "execution_count": 36,
   "metadata": {},
   "outputs": [
    {
     "name": "stdout",
     "output_type": "stream",
     "text": [
      "[False False False False False False False False False False False False\n",
      " False False False False False False False False  True  True  True  True\n",
      "  True  True  True  True  True False False False False False False False\n",
      " False False False False False False False False False False False False\n",
      " False False] [21 22 23 24 25 26 27 28 29]\n",
      "\n"
     ]
    }
   ],
   "source": [
    "# Task 2. Find elements, where elements more than 20 and less 30 \n",
    "comp = (arr > 20) & (arr < 30)\n",
    "print(comp, arr[comp], end = '\\n\\n')"
   ]
  },
  {
   "cell_type": "code",
   "execution_count": 37,
   "metadata": {},
   "outputs": [
    {
     "name": "stdout",
     "output_type": "stream",
     "text": [
      "[ 2  4  6  8 10 12 14 16 18 20 22 24 26 28 30 32 34 36 38 40 42 44 46 48\n",
      " 50]\n"
     ]
    }
   ],
   "source": [
    "# Task 3. Find elements, where elements is even\n",
    "\n",
    "print(arr[(arr % 2 == 0)]) "
   ]
  },
  {
   "cell_type": "code",
   "execution_count": 42,
   "metadata": {},
   "outputs": [
    {
     "name": "stdout",
     "output_type": "stream",
     "text": [
      "[[0 1 0 1 0 1 0 1]\n",
      " [1 0 1 0 1 0 1 0]\n",
      " [0 1 0 1 0 1 0 1]\n",
      " [1 0 1 0 1 0 1 0]\n",
      " [0 1 0 1 0 1 0 1]\n",
      " [1 0 1 0 1 0 1 0]\n",
      " [0 1 0 1 0 1 0 1]\n",
      " [1 0 1 0 1 0 1 0]]\n"
     ]
    }
   ],
   "source": [
    "# Task 4.  Generate chess dashboard \n",
    "\n",
    "def chess():\n",
    "    \n",
    "    chessboard = np.zeros((8, 8), dtype=int)\n",
    "\n",
    "    chessboard[1::2, ::2] = 1\n",
    "    chessboard[::2, 1::2] = 1\n",
    "\n",
    "    return chessboard\n",
    "\n",
    "chessboard = chess()\n",
    "print(chessboard)"
   ]
  },
  {
   "cell_type": "code",
   "execution_count": 43,
   "metadata": {},
   "outputs": [
    {
     "name": "stdout",
     "output_type": "stream",
     "text": [
      "[17 19 23 25]\n"
     ]
    }
   ],
   "source": [
    "# Task 5. Find elements, where elements is NOT even, less than 41 and more then 15 and elements not equal 21\n",
    "\n",
    "print(arr[(arr % 2 != 0) & (arr < 41) &(arr>15) & (arr !=21)]) "
   ]
  },
  {
   "cell_type": "code",
   "execution_count": 45,
   "metadata": {},
   "outputs": [
    {
     "name": "stdout",
     "output_type": "stream",
     "text": [
      "Sum of the main diagonal [ 1  7 13 19 25] is: 65 \n",
      "Sum of the alternative diagonal [21 17 13  9  5] is:65 \n"
     ]
    }
   ],
   "source": [
    "#6 task # Task 6. Find sum of diagonal for matrix (5, 5). \n",
    "#Step 1: generate matrix. Step 2: display diagonal, Step 3: Find sum of main dianogal, \n",
    "#Step 3: Find alternative diagonal, find elements what more than sum of main diagonal\n",
    "arr=(np.arange(1,26)).reshape(5,5)\n",
    "main_dia=arr.diagonal()\n",
    "alt_dia=np.flipud(arr).diagonal()  #(upside down dia option) OR alt_dia = np.fliplr(arr).diagonal()\n",
    "print(f'Sum of the main diagonal {main_dia} is: {np.sum(main_dia)} \\nSum of the alternative diagonal {alt_dia} is:{np.sum(alt_dia)} ')"
   ]
  }
 ],
 "metadata": {
  "kernelspec": {
   "display_name": "Python 3",
   "language": "python",
   "name": "python3"
  },
  "language_info": {
   "codemirror_mode": {
    "name": "ipython",
    "version": 3
   },
   "file_extension": ".py",
   "mimetype": "text/x-python",
   "name": "python",
   "nbconvert_exporter": "python",
   "pygments_lexer": "ipython3",
   "version": "3.11.6"
  }
 },
 "nbformat": 4,
 "nbformat_minor": 2
}
