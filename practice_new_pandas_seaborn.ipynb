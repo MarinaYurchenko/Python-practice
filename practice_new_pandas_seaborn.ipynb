{
 "cells": [
  {
   "cell_type": "code",
   "execution_count": null,
   "metadata": {},
   "outputs": [],
   "source": [
    "import pandas as pd\n",
    "import matplotlib.pyplot as plt\n",
    "import seaborn as sns\n",
    "import numpy as np"
   ]
  },
  {
   "cell_type": "code",
   "execution_count": null,
   "metadata": {},
   "outputs": [],
   "source": [
    "df_dia = sns.load_dataset(\"diamonds\")\n",
    "df_dia.columns # check the columns in the dataset\n",
    "df_dia.head(100) # sample, tail - to overview dataset "
   ]
  },
  {
   "cell_type": "code",
   "execution_count": null,
   "metadata": {},
   "outputs": [],
   "source": [
    "# 1. Яке середнє значення ціни всіх алмазів у датасеті? - зберегти в змінну avg_df та округлити до другого значення \n",
    "sns.scatterplot(x='price', y='carat', data=df_dia)\n",
    "\n",
    "avg_price=df_dia['price'].mean()\n",
    "print(f'The average price of all diamonds in this dataset is: {round(avg_price,2)}')  # чомусь повертається лише один знак після коми\n"
   ]
  },
  {
   "cell_type": "code",
   "execution_count": null,
   "metadata": {},
   "outputs": [],
   "source": [
    "# 2. Яка середня кількість каратів у алмазів кожної якості огранювання?\n",
    "quant_count=df_dia['cut'].value_counts() # general quantity of diamonds in each cut\n",
    "perc_count=round(df_dia['cut'].value_counts(normalize= True) * 100, 2) # percentage quantity of diamonds in each cut\n",
    "print(f'{quant_count} \\n\\n{perc_count}')\n",
    "\n"
   ]
  },
  {
   "cell_type": "code",
   "execution_count": null,
   "metadata": {},
   "outputs": [],
   "source": [
    "# 3. Який колір алмазу найпоширеніший у датасеті?\n",
    "colors=df_dia['color'].unique() #виводимо всі наявні кольори в датасеті\n",
    "print(colors)\n",
    "\n",
    "most_freq_color=df_dia['color'].value_counts().idxmax() # виводимо значення яке зустрічається найчастіше\n",
    "print(f'\\n\"{most_freq_color}\" is the most frequent diamond color')\n",
    "\n",
    "round(df_dia['color'].value_counts(normalize= True) * 100, 2) # перевірка правильності результату"
   ]
  },
  {
   "cell_type": "code",
   "execution_count": null,
   "metadata": {},
   "outputs": [],
   "source": [
    "#4. Який розподіл кількості алмазів за кожним кольором? Використе графік для пояснення\n",
    "color_counts = round(df_dia['color'].value_counts(normalize=True)*100,2)\n",
    "sorted_colors = color_counts.index.tolist() # сортую, щоб в гістограмі дані відображлись від більшого до меншого, а не по алф назві кольорів\n",
    "plt.figure(figsize=(8, 6))\n",
    "\n",
    "sns.barplot(x='color', y=color_counts.values, data=color_counts.reset_index(),\n",
    "            order=sorted_colors, palette='pastel')\n",
    "for i, count in enumerate(color_counts): # додала анотацію до колонок в гістограмі\n",
    "    plt.annotate(f\"{count}%\", xy=(i, count), ha='center', va='bottom', fontsize=10)\n",
    "\n",
    "plt.title('Diamonds by Color (Sorted by Count)')\n",
    "plt.xlabel('Color')\n",
    "plt.ylabel('Count')\n",
    "plt.xticks(rotation=0)\n",
    "plt.tight_layout()\n",
    "plt.show()\n"
   ]
  },
  {
   "cell_type": "code",
   "execution_count": null,
   "metadata": {},
   "outputs": [],
   "source": [
    "#5. Який відсоток алмазів у датасеті має якість ограновування \"Fair\"?  Округлити до другого значення\n",
    "perc_fair_cut = perc_count['Fair']\n",
    "\n",
    "print(f\"The percentage of 'Fair' cut diamonds is: {perc_fair_cut}%\")"
   ]
  },
  {
   "cell_type": "code",
   "execution_count": null,
   "metadata": {},
   "outputs": [],
   "source": [
    "#6. Який відсоток алмазів у датасеті є ідеально огранованими?\n",
    "perc_ideal_cut = perc_count['Ideal']\n",
    "\n",
    "print(f\"The percentage of 'Ideal' cut diamonds is: {perc_ideal_cut}%\")"
   ]
  },
  {
   "cell_type": "code",
   "execution_count": null,
   "metadata": {},
   "outputs": [],
   "source": [
    "#7. Яка середня кількість алмазів знаходиться в категорії \"Premium\" у кожному кольорі?\n",
    "premium_quant= df_dia[df_dia['cut'] == 'Premium']['color'].value_counts()\n",
    "print(f'The quantity of diamonds in \"Premium\" cut is : \\n{premium_quant}')"
   ]
  },
  {
   "cell_type": "code",
   "execution_count": null,
   "metadata": {},
   "outputs": [],
   "source": [
    "#8 для себе: вивести статистику ціни (мін, макс, сер) для діамантів, розподілених по якості та кольору.\n",
    "\n",
    "df_dia.groupby([ # e.g. grouping by several columns and several conditions\n",
    "    'cut', 'color'\n",
    "]).agg({\n",
    "    'price': [('mean', lambda x: round(x.mean(), 2)), 'min', 'max']\n",
    "\n",
    "})"
   ]
  }
 ],
 "metadata": {
  "kernelspec": {
   "display_name": "Python 3",
   "language": "python",
   "name": "python3"
  },
  "language_info": {
   "codemirror_mode": {
    "name": "ipython",
    "version": 3
   },
   "file_extension": ".py",
   "mimetype": "text/x-python",
   "name": "python",
   "nbconvert_exporter": "python",
   "pygments_lexer": "ipython3",
   "version": "3.11.6"
  }
 },
 "nbformat": 4,
 "nbformat_minor": 2
}
