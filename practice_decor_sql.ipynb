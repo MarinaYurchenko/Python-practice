{
 "cells": [
  {
   "cell_type": "code",
   "execution_count": 2,
   "metadata": {},
   "outputs": [],
   "source": [
    "#Task 1. Реалізуйте декоратор type_check, який перевіряє відповідність типів аргументів функції заданим типам і викидає виняток, якщо типи не збігаються.\n",
    "def type_check(func):\n",
    "    def wrapper(*args, **kwargs):\n",
    "        func_ = func.__annotations__\n",
    "        for i, arg in enumerate(args):\n",
    "            if func_ and func_.get(list(func_.keys())[i], None) and not isinstance(arg, func_[list(func_.keys())[i]]):\n",
    "                return TypeError(f\"Argument '{list(func_.keys())[i]}' has invalid type: {type(arg).__name__}\") #or raise TypeError\n",
    "        return func(*args, **kwargs)\n",
    "    return wrapper"
   ]
  },
  {
   "cell_type": "code",
   "execution_count": 3,
   "metadata": {},
   "outputs": [
    {
     "data": {
      "text/plain": [
       "TypeError(\"Argument 'my_dict' has invalid type: tuple\")"
      ]
     },
     "execution_count": 3,
     "metadata": {},
     "output_type": "execute_result"
    }
   ],
   "source": [
    "@type_check\n",
    "def example_function(num: int, text: str, my_list: list, my_dict: dict):\n",
    "    print(f\"Received: {num}, {text}, {my_list}, {my_dict}\")\n",
    "\n",
    "num=23\n",
    "text='45'\n",
    "my_list=[23]\n",
    "my_dict=(23, 24)\n",
    "\n",
    "example_function(num, text, my_list, my_dict)"
   ]
  },
  {
   "cell_type": "code",
   "execution_count": null,
   "metadata": {},
   "outputs": [],
   "source": [
    "#Task 2. Реалізуйте декоратор delay, який затримує виконання функції на вказану кількість секунд. \n",
    "#Функція повинна на заданий час давати shutdown, також повинна бути перевірка на статус код та try/except для перевірки connection \n",
    "\n"
   ]
  },
  {
   "cell_type": "code",
   "execution_count": 4,
   "metadata": {},
   "outputs": [],
   "source": [
    "import sqlite3\n",
    "from faker import Faker\n",
    "from datetime import datetime"
   ]
  },
  {
   "cell_type": "code",
   "execution_count": null,
   "metadata": {},
   "outputs": [],
   "source": [
    "#SQL - tasks\n",
    "# Task 1. create table Person, with id: int, primary key, name: text, surname: text,\n",
    "#date_of_birth date \n",
    "# Connect with BD \n",
    "\n",
    "\n",
    "# create a connection to the database\n",
    "conn = sqlite3.connect('example.db')\n",
    "\n",
    "print(conn)\n",
    "# create a table\n",
    "conn.execute('''CREATE TABLE IF NOT EXISTS\n",
    "             persons (id INTEGER PRIMARY KEY, name TEXT, surname TEXT, date_of_birth DATE)''')\n",
    "\n",
    "# commit the changes\n",
    "conn.commit()\n",
    "\n",
    "# close the connection\n",
    "conn.close()"
   ]
  },
  {
   "cell_type": "code",
   "execution_count": null,
   "metadata": {},
   "outputs": [],
   "source": [
    "# Task 2. Заповнити таблицю Person 15 кортежі, *use - faker, *use - context manager\n",
    "\n",
    "\n",
    "conn = sqlite3.connect('example.db')\n",
    "fake = Faker()\n",
    "Faker.seed(42)\n",
    "\n",
    "with sqlite3.connect('example.db') as conn:\n",
    "    conn.execute('''CREATE TABLE IF NOT EXISTS persons (\n",
    "                    id INTEGER PRIMARY KEY,\n",
    "                    name TEXT,\n",
    "                    surname TEXT,\n",
    "                    date_of_birth DATE)\n",
    "                ''')\n",
    "\n",
    "    for i in range(1, 16):\n",
    "        name = fake.first_name()\n",
    "        surname = fake.last_name()\n",
    "        date_of_birth = fake.date_of_birth(maximum_age=65, minimum_age=20) #indicated max and min age in order to avoid huge difference in randomly generated time data\n",
    "        conn.execute(\"INSERT INTO persons (id, name, surname, date_of_birth) VALUES (?, ?, ?, ?)\",\n",
    "                     (i, name, surname, date_of_birth))\n",
    "\n",
    "    conn.commit()"
   ]
  },
  {
   "cell_type": "code",
   "execution_count": 5,
   "metadata": {},
   "outputs": [
    {
     "name": "stdout",
     "output_type": "stream",
     "text": [
      "(1, 'Danielle', 'Johnson', '1976-08-09')\n",
      "(2, 'John', 'Taylor', '1964-11-12')\n",
      "(3, 'Erica', 'Mcclain', '1963-10-22')\n",
      "(4, 'Brittany', 'Johnson', '1964-04-07')\n",
      "(5, 'Jeffery', 'Wagner', '1959-09-12')\n",
      "(6, 'Anna', 'Baldwin', '1994-12-22')\n",
      "(7, 'Robert', 'Cole', '1976-10-27')\n",
      "(8, 'Lisa', 'Smith', '1968-10-03')\n",
      "(9, 'Helen', 'Peterson', '1968-06-21')\n",
      "(10, 'Jason', 'Gallagher', '1964-11-05')\n",
      "(11, 'Christopher', 'Davis', '1981-04-19')\n",
      "(12, 'Cassandra', 'Roman', '1989-02-26')\n",
      "(13, 'Amanda', 'Dudley', '1983-08-26')\n",
      "(14, 'Christian', 'Carter', '2000-09-01')\n",
      "(15, 'Christine', 'Hensley', '1997-03-07')\n"
     ]
    }
   ],
   "source": [
    "# check on inserted data\n",
    "with sqlite3.connect('example.db') as conn:\n",
    "    \n",
    "    cursor = conn.cursor()\n",
    "    cursor.execute(\"SELECT  * FROM Persons\")\n",
    "    rows = cursor.fetchall()\n",
    "\n",
    "    # print the data\n",
    "    for row in rows:\n",
    "        print(row)"
   ]
  },
  {
   "cell_type": "code",
   "execution_count": 6,
   "metadata": {},
   "outputs": [
    {
     "name": "stdout",
     "output_type": "stream",
     "text": [
      "There are no records matching your request in the table\n"
     ]
    }
   ],
   "source": [
    "# Task 3. Знайти всіх людей у кого день народження 19-03-1998 або 12-10-1998\n",
    "with sqlite3.connect('example.db') as conn:\n",
    "    \n",
    "    cursor = conn.cursor()\n",
    "    cursor.execute(\"SELECT  * FROM Persons WHERE date_of_birth IN ('1998-03-19', '1998-10-12')\" )\n",
    "    rows = cursor.fetchall()\n",
    "\n",
    "    if not rows:\n",
    "        print ('There are no records matching your request in the table')\n",
    "    else:\n",
    "        for row in rows:\n",
    "            print(row)"
   ]
  },
  {
   "cell_type": "code",
   "execution_count": 7,
   "metadata": {},
   "outputs": [
    {
     "name": "stdout",
     "output_type": "stream",
     "text": [
      "(5, 'Jeffery', 'Wagner', '1959-09-12')\n",
      "(3, 'Erica', 'Mcclain', '1963-10-22')\n",
      "(4, 'Brittany', 'Johnson', '1964-04-07')\n",
      "(10, 'Jason', 'Gallagher', '1964-11-05')\n",
      "(2, 'John', 'Taylor', '1964-11-12')\n",
      "(5, 'Jeffery', 'Wagner', '1959-09-12')\n",
      "(3, 'Erica', 'Mcclain', '1963-10-22')\n",
      "(4, 'Brittany', 'Johnson', '1964-04-07')\n",
      "(10, 'Jason', 'Gallagher', '1964-11-05')\n",
      "(2, 'John', 'Taylor', '1964-11-12')\n"
     ]
    }
   ],
   "source": [
    "# Task 4. Знайте найстарших людей в наборі(топ 5)\n",
    "with sqlite3.connect('example.db') as conn:\n",
    "    \n",
    "    cursor = conn.cursor()\n",
    "    cursor.execute(\"SELECT  * FROM Persons ORDER BY date_of_birth LIMIT 5\")\n",
    "    rows = cursor.fetchall()\n",
    "\n",
    "    # print the data\n",
    "    for row in rows:\n",
    "        print(row)\n",
    "\n",
    "# or:\n",
    "with sqlite3.connect('example.db') as conn:\n",
    "    \n",
    "    cursor = conn.cursor()\n",
    "    cursor.execute(\"SELECT  * FROM Persons ORDER BY date_of_birth\")\n",
    "    rows = cursor.fetchmany(5)\n",
    "\n",
    "    # print the data\n",
    "    for row in rows:\n",
    "        print(row)\n"
   ]
  },
  {
   "cell_type": "code",
   "execution_count": 8,
   "metadata": {},
   "outputs": [
    {
     "name": "stdout",
     "output_type": "stream",
     "text": [
      "(1, 'Danielle', 'Johnson', '1976-08-09')\n",
      "(4, 'Brittany', 'Johnson', '1964-04-07')\n",
      "(5, 'Jeffery', 'Wagner', '1959-09-12')\n",
      "(7, 'Robert', 'Cole', '1976-10-27')\n",
      "(11, 'Christopher', 'Davis', '1981-04-19')\n",
      "(12, 'Cassandra', 'Roman', '1989-02-26')\n",
      "(14, 'Christian', 'Carter', '2000-09-01')\n",
      "(15, 'Christine', 'Hensley', '1997-03-07')\n"
     ]
    }
   ],
   "source": [
    "# Task 5. Вивезти всіх у кого name більше surname \n",
    "with sqlite3.connect('example.db') as conn:\n",
    "    \n",
    "    cursor = conn.cursor()\n",
    "    cursor.execute(\"SELECT  * FROM Persons WHERE LENGTH(name) > LENGTH(surname)\")\n",
    "    rows = cursor.fetchall()\n",
    "\n",
    "    # print the data\n",
    "    for row in rows:\n",
    "        print(row)"
   ]
  }
 ],
 "metadata": {
  "kernelspec": {
   "display_name": "Python 3",
   "language": "python",
   "name": "python3"
  },
  "language_info": {
   "codemirror_mode": {
    "name": "ipython",
    "version": 3
   },
   "file_extension": ".py",
   "mimetype": "text/x-python",
   "name": "python",
   "nbconvert_exporter": "python",
   "pygments_lexer": "ipython3",
   "version": "3.11.6"
  }
 },
 "nbformat": 4,
 "nbformat_minor": 2
}
